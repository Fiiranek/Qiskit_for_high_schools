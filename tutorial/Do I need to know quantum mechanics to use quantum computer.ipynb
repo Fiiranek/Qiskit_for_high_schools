{
 "cells": [
  {
   "cell_type": "markdown",
   "metadata": {},
   "source": [
    "### Do I need to know quantum mechanics to use quantum computer?\n",
    "Many people certainly think that programming quantum computers is terribly complicated. Contrary to appearances, it is enough to have a basic knowledge of Python to be able to write simple codes. All thanks to numerous libraries that greatly facilitate programming in Qiskit."
   ]
  },
  {
   "cell_type": "markdown",
   "metadata": {},
   "source": [
    "### Qiskit Aqua\n",
    "In this part of the guide, we present the Aqua library, which contains the core cross-domain algorithms and supporting logic to run these on a quantum backend, whether a real device or simulator. In the following task, we will use two algorithms: **Shor's** and **Grover's**. Thanks to the library, we do not have to go into detail about each of them, because their operation is quite complicated. We will briefly discuss their operation as their construction will be discussed in the next part of the project."
   ]
  },
  {
   "cell_type": "markdown",
   "metadata": {},
   "source": [
    "### Shor's Algorithm\n",
    "The very purpose of the algorithm is quite simple. The Shore's algorithm enables factorization of the natural number N. As we mentioned before, the algorithm is very complicated. It is divided into a classical and a quantum part. At present, for numbers with low values, it is more profitable to use a classical computer. However, in the case of huge numbers, this algorithm is the most optimal solution. The practical application of this algorithm is breaking cyphers."
   ]
  },
  {
   "cell_type": "markdown",
   "metadata": {},
   "source": [
    "First, we need to import the Aer library that will allow us to simulate a quantum algorithm on a classical computer. Then, the necessary algorithm should be imported similarly. We take it from the Aqua library described earlier."
   ]
  },
  {
   "cell_type": "code",
   "execution_count": 9,
   "metadata": {},
   "outputs": [],
   "source": [
    "from qiskit import Aer\n",
    "from qiskit.aqua.algorithms import Shor"
   ]
  },
  {
   "cell_type": "markdown",
   "metadata": {},
   "source": [
    "Afterwards we have to create a variable, the value of which we want to factorize. In this case, it is number 15. Generally, it is not recommended to break down numbers larger than 21, because simulating this process can put a heavy load on a classic computer."
   ]
  },
  {
   "cell_type": "code",
   "execution_count": 10,
   "metadata": {},
   "outputs": [],
   "source": [
    "N=15"
   ]
  },
  {
   "cell_type": "markdown",
   "metadata": {},
   "source": [
    "The next step is to assign our variable to the algorithm. Just use the 'Shore' command and put the variable in parentheses that we previously assigned a value. We save it in the variable 'shore', which we will use to display the solution."
   ]
  },
  {
   "cell_type": "code",
   "execution_count": 11,
   "metadata": {},
   "outputs": [],
   "source": [
    "shor = Shor(N)"
   ]
  },
  {
   "cell_type": "markdown",
   "metadata": {},
   "source": [
    "Now we have to choose how to execute the algorithm. For this, we will use the previously imported Aer library. Backend is an interface to a quantum system or a classical-quantum simulator. It's best to understand the backend as the machine to do the algorithm's work. In our case, we will use a simulator, the choice of which will be declared by giving the name in brackets. You may also ask what is QASM? It is a set of text instructions to describe and visualize quantum circuits needed to execute a script. As before, we write the result to a variable."
   ]
  },
  {
   "cell_type": "code",
   "execution_count": 12,
   "metadata": {},
   "outputs": [],
   "source": [
    "backend = Aer.get_backend('qasm_simulator')"
   ]
  },
  {
   "cell_type": "markdown",
   "metadata": {},
   "source": [
    "At the very end, we have to call the whole algorithm. To do this, we will use the previously created variables, starting with the 'shore' to be executed. In brackets, we give 'backend' because we have declared in it that the script will be executed via a quantum simulator. The last command is to print the result ('*print(result)*' is enough). In this task, you have to be patient, because a classic computer takes a while to solve it in a quantum way."
   ]
  },
  {
   "cell_type": "code",
   "execution_count": 15,
   "metadata": {},
   "outputs": [
    {
     "name": "stdout",
     "output_type": "stream",
     "text": [
      "The factors of 15 computed by the Shor's algorithm: [3, 5].\n"
     ]
    }
   ],
   "source": [
    "result = shor.run(backend)\n",
    "print(\"The factors of {} computed by the Shor's algorithm: {}.\".format(N, result['factors'][0]))"
   ]
  }
 ],
 "metadata": {
  "kernelspec": {
   "display_name": "Python 3",
   "language": "python",
   "name": "python3"
  },
  "language_info": {
   "codemirror_mode": {
    "name": "ipython",
    "version": 3
   },
   "file_extension": ".py",
   "mimetype": "text/x-python",
   "name": "python",
   "nbconvert_exporter": "python",
   "pygments_lexer": "ipython3",
   "version": "3.8.5"
  }
 },
 "nbformat": 4,
 "nbformat_minor": 4
}
