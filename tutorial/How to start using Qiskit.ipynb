{
 "cells": [
  {
   "cell_type": "markdown",
   "metadata": {},
   "source": [
    "### Installing Qiskit\n",
    "The installation of Qiskit is a very simple process. Just follow the below steps illustrated by screenshots.\n",
    "\n",
    "1. From [here](https://www.python.org/downloads/) download the latest version of Python. After the installation process is complete, you can open Command Prompt and type ```python --version``` to check if installation was successful.\n",
    "![1](img/How-to-start-using-Qiskit/1.png)<br/>\n",
    "2. From [here](https://www.anaconda.com/products/individual) download installer of Anaconda for your OS. After installation in searchbar type 'Anaconda Navigator' and open it.\n",
    "![2](img/How-to-start-using-Qiskit/2.png)<br/>\n",
    "    From dropdown menu choose 'base(root)'.\n",
    "    ![3](img/How-to-start-using-Qiskit/3.png)<br/>\n",
    "3. In searchbar type 'anaconda prompt' and open it. To install Jupyter Notebook, type ```pip install notebook``` and wait for it to be installed.\n",
    "![4](img/How-to-start-using-Qiskit/4.png)<br/>\n",
    "4. Next, type ```pip install qiskit``` and wait.\n",
    "![5](img/How-to-start-using-Qiskit/5.png)\n",
    "5. To open Jupyter Notebook, just type ```jupyter notebook```.\n",
    "![6](img/How-to-start-using-Qiskit/6.png)<br/>\n",
    "    And this is how it looks opened in the browser.\n",
    "    ![7](img/How-to-start-using-Qiskit/7.png)<br/>\n",
    "6. Select New, and click 'Python 3'.\n",
    "![8](img/How-to-start-using-Qiskit/8.png)<br/>\n",
    "7. All we are going to write in this part of tutorial in Python is simply checking that Qiskit is installed correctly. To import everything from Qiskit module (like diffrent functions, classes, etc.) just type ```from qiskit import *```.\n",
    "![9](img/How-to-start-using-Qiskit/9.png)<br/>\n",
    "    Then type ```qiskit.__version__```. It shows a version of installed Qiskit. If you also have     an output like below, it means that everything is OK!\n",
    "    ![10](img/How-to-start-using-Qiskit/10.png)"
   ]
  },
  {
   "cell_type": "code",
   "execution_count": null,
   "metadata": {},
   "outputs": [],
   "source": []
  }
 ],
 "metadata": {
  "kernelspec": {
   "display_name": "Python 3",
   "language": "python",
   "name": "python3"
  },
  "language_info": {
   "codemirror_mode": {
    "name": "ipython",
    "version": 3
   },
   "file_extension": ".py",
   "mimetype": "text/x-python",
   "name": "python",
   "nbconvert_exporter": "python",
   "pygments_lexer": "ipython3",
   "version": "3.8.3"
  }
 },
 "nbformat": 4,
 "nbformat_minor": 4
}
