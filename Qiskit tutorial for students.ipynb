{
 "cells": [
  {
   "cell_type": "markdown",
   "metadata": {},
   "source": [
    "# Getting started with Quantum Computers\n",
    "Classic computers can solve most of the problems encountered by the average user. However, what if you need computing power, which is unattainable for an ordinary device? This is where quantum computers come to the rescue, which, using the phenomenon of quantum mechanics, deal with more difficult challenges."
   ]
  },
  {
   "cell_type": "markdown",
   "metadata": {},
   "source": [
    "### What is a Quantum Computer?\n",
    "A quantum computer is a machine that uses quantum physics. Contrary to ordinary computers, in which information processing is based on bits with the values \"0\" or \"1\", the basis is qubits (or quantum bits) taking the so-called a superposition where \"0\" and \"1\" are present at the same time. As a result, it allows us to achieve much higher efficiency: we can carry out many stages of calculations at the same time, as well as to consider several variants of solving the problem."
   ]
  },
  {
   "cell_type": "markdown",
   "metadata": {},
   "source": [
    "### What is Qubit?\n",
    "A qubit is a unit other than what we are used to. It differs from an ordinary bit in that it has no fixed value, but according to the rules of quantum mechanics, it is in an intermediate state, called superposition, between 0 and 1 (like Schrödinger's cat). Instead of selecting a value of 0 or 1, there is a probability of both being in the state of both variables. Only when measuring, the qubit can assume one of these two values. IBM's current largest quantum computer, revealed in September 2020, contains 65 qubits."
   ]
  },
  {
   "cell_type": "code",
   "execution_count": null,
   "metadata": {},
   "outputs": [],
   "source": []
  }
 ],
 "metadata": {
  "kernelspec": {
   "display_name": "Python 3",
   "language": "python",
   "name": "python3"
  },
  "language_info": {
   "codemirror_mode": {
    "name": "ipython",
    "version": 3
   },
   "file_extension": ".py",
   "mimetype": "text/x-python",
   "name": "python",
   "nbconvert_exporter": "python",
   "pygments_lexer": "ipython3",
   "version": "3.8.5"
  }
 },
 "nbformat": 4,
 "nbformat_minor": 4
}
