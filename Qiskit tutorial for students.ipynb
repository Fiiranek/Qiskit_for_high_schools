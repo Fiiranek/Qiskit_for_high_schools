{
 "cells": [
  {
   "cell_type": "markdown",
   "metadata": {},
   "source": [
    "# Getting started with Quantum Computers\n",
    "Classic computers can solve most of the problems encountered by the average user. However, what if you need computing power, which is unattainable for an ordinary device? This is where quantum computers come to the rescue, which, using the phenomenon of quantum mechanics, deal with more difficult challenges."
   ]
  },
  {
   "cell_type": "markdown",
   "metadata": {},
   "source": [
    "### What is a Quantum Computer?\n",
    "A quantum computer is a machine that uses quantum physics. Contrary to ordinary computers, in which information processing is based on bits with the values 0 or 1, the basis is qubits (or quantum bits) taking the so-called a superposition where 0 and 1 are present at the same time. As a result, it allows us to achieve much higher efficiency: we can carry out many stages of calculations at the same time, as well as to consider several variants of solving the problem. "
   ]
  },
  {
   "cell_type": "markdown",
   "metadata": {},
   "source": [
    "### Quantum Computers nowadays\n",
    "The current goal of quantum computers is \"Quantum Supremacy\". This concept focuses on demonstrating that a programmable quantum device can solve a problem that no classical computer can solve in any feasible amount of time. Every day, we produce 2.5 exabytes of data. That number is equivalent to the content on 5 million laptops. Quantum computers will make it possible to process the amount of data we’re generating in the age of big data. For now, quantum computers are highly sensitive: heat, electromagnetic fields and collisions with air molecules can cause a qubit to lose its properties. In particular, it is difficult to maintain the quantum states of qubits as they are prone to **quantum decoherence** (interaction of a quantum object with the environment), and quantum computers require significant error correction as they are far more prone to errors than classical computers."
   ]
  },
  {
   "cell_type": "markdown",
   "metadata": {},
   "source": [
    "### What will Quantum Computers be used for?\n",
    " - **Artificial Intelligence** <br/> The primary application for quantum computing is artificial intelligence (AI). Artificial Intelligence is based on the principle of learning from experience. The more information the computer receives, the more accurate the AI becomes. This process repeats itself until the computer shows \"intelligence\". This feedback is based on the calculation of the probabilities of many possible choices, so AI is an ideal candidate for quantum computing. <br/>\n",
    " - **Molecular Modeling** <br/> Chemical reactions are quantum in nature as they form highly entangled quantum superposition states. It is so complex that only the simplest molecules can be analyzed by today’s digital computers. But fully-developed quantum computers would not have any difficulty evaluating even the most processes. \n",
    " - **Financial Modeling** <br/> Modern markets are some of the most complicated systems. Despite many scientific and mathematical tools to understand this, still, there’s no controlled environment in which to run experiments. One of the main advantages of financial quantum computing is that the randomness inherent to quantum computers is congruent to the nature of financial markets. Investors often wish to evaluate the distribution of outcomes under an extremely large number of scenarios generated at random.\n",
    " - **Weather Forecasting** <br/> The ability to better predict the weather would have enormous benefit to many fields, not to mention more time to take cover from disasters. As quantum researcher pointed out, “Using a classical computer to perform such analysis might take longer than it takes the actual weather to evolve!”. Quantum computers also could help build better climate models that could give us more insight into how humans are influencing the environment."
   ]
  },
  {
   "cell_type": "markdown",
   "metadata": {},
   "source": [
    "### What is Qubit?\n",
    "A qubit is a unit other than what we are used to. It differs from an ordinary bit in that it has no fixed value, but according to the rules of quantum mechanics, it is in an intermediate state, called superposition, between 0 and 1 (like Schrödinger's cat). Instead of selecting a value of 0 or 1, there is a probability of both being in the state of both variables. Only when measuring, the qubit can assume one of these two values. IBM's current largest quantum computer, revealed in September 2020, contains 65 qubits. By 2023, IBM plans to introduce the 1,121 qubit IBM Quantum Condor processor, in which it will be lowered the critical two-qubit errors so that we can run longer quantum circuits."
   ]
  },
  {
   "cell_type": "markdown",
   "metadata": {},
   "source": [
    "### Few softwares for programming Quantum Computers\n",
    "\n",
    "- **Microsoft Quantum Development Kit** <br/> Microsoft QDK is a full-featured development kit for Q # that can be used with popular tools and languages to build quantum applications that can be run in a variety of environments. Q # programs can be run as a console application, or with Jupyter notebooks, or with a Python or .NET host program. To read more about Microsoft QDK click this [link](https://www.microsoft.com/en-us/quantum/development-kit).\n",
    "- **Qiskit** <br/> Qiskit is an open source framework for quantum computing. Provides tools to create, manipulate, and run quantum programs on prototype quantum devices in IBM Q Experience or on simulators on a local computer. The basic version of Qiskit uses the Python programming language. You can run programs on real quantum computers [here](https://quantum-computing.ibm.com/).\n",
    "- **Project Q** <br/> ProjectQ is an open-source effort for quantum computing. This software allows users to implement their quantum programs in Python using a powerful and intuitive syntax. Next, it converts them to any type of back-end which later can be run on the classical simulators or quantum computers through IBM Quantum Experience. To read more about ProjectQ click [here](https://github.com/ProjectQ-Framework/ProjectQ)."
   ]
  },
  {
   "cell_type": "markdown",
   "metadata": {},
   "source": [
    "### IBM Quantum Experience - what is it?\n",
    "A web platform that provides users with access to IBM's prototype quantum processors through the use of quantum computing in the cloud. This service can be used to run algorithms and experiments. It also offers tutorials and simulations on the possibilities of quantum computing. Users interact with the quantum processor via a computational quantum circuit model by applying quantum gates on qubits via a graphical user interface called a quantum composer."
   ]
  }
 ],
 "metadata": {
  "kernelspec": {
   "display_name": "Python 3",
   "language": "python",
   "name": "python3"
  },
  "language_info": {
   "codemirror_mode": {
    "name": "ipython",
    "version": 3
   },
   "file_extension": ".py",
   "mimetype": "text/x-python",
   "name": "python",
   "nbconvert_exporter": "python",
   "pygments_lexer": "ipython3",
   "version": "3.8.3"
  }
 },
 "nbformat": 4,
 "nbformat_minor": 4
}
