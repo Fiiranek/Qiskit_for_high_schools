{
 "cells": [
  {
   "cell_type": "markdown",
   "metadata": {},
   "source": [
    "# Getting started with Quantum Computers\n",
    "Classic computers can solve most of the problems encountered by the average user. However, what if you need computing power, which is unattainable for an ordinary device? This is where quantum computers come to the rescue, which, using the phenomenon of quantum mechanics, deal with more difficult challenges."
   ]
  },
  {
   "cell_type": "markdown",
   "metadata": {},
   "source": [
    "### What is a Quantum Computer?\n",
    "A quantum computer is a machine that uses quantum physics. Contrary to ordinary computers, in which information processing is based on bits with the values \"0\" or \"1\", the basis is qubits (or quantum bits) taking the so-called a superposition where \"0\" and \"1\" are present at the same time. As a result, it allows us to achieve much higher efficiency: we can carry out many stages of calculations at the same time, as well as to consider several variants of solving the problem. For now, quantum computers are highly sensitive: heat, electromagnetic fields and collisions with air molecules can cause a qubit to lose its quantum properties."
   ]
  },
  {
   "cell_type": "markdown",
   "metadata": {},
   "source": [
    "### What is Qubit?\n",
    "A qubit is a unit other than what we are used to. It differs from an ordinary bit in that it has no fixed value, but according to the rules of quantum mechanics, it is in an intermediate state, called superposition, between 0 and 1 (like Schrödinger's cat). Instead of selecting a value of 0 or 1, there is a probability of both being in the state of both variables. Only when measuring, the qubit can assume one of these two values. IBM's current largest quantum computer, revealed in September 2020, contains 65 qubits."
   ]
  },
  {
   "cell_type": "markdown",
   "metadata": {},
   "source": [
    "### What are quantum computers used for?\n",
    " - **Artificial Intelligence** <br/> The primary application for quantum computing is artificial intelligence (AI). Artificial Intelligence is based on the principle of learning from experience. The more information the computer receives, the more accurate the AI becomes. This process repeats itself until the computer shows \"intelligence\". This feedback is based on the calculation of the probabilities of many possible choices, so AI is an ideal candidate for quantum computing. <br/>\n",
    " - **Molecular Modeling** <br/> Chemical reactions are quantum in nature as they form highly entangled quantum superposition states. It is so complex that only the simplest molecules can be analyzed by today’s digital computers. But fully-developed quantum computers would not have any difficulty evaluating even the most processes. <br/>\n",
    " - **Cryptography and Crypotocurrency Mining** <br/>Today, bitcoin mining requires huge server rooms that eat a lot of electricity. Quantum computers can change that drastically. Furthermore, most online security currently depends on the difficulty of factoring large numbers into primes. This can be accomplished by using digital computers, but time required to crack the code is unimaginably long. Quantum computers can perform such factoring exponentially more efficiently than digital computers. <br/>\n",
    " - **Financial Modeling** <br/>Modern markets are some of the most complicated systems. Despite many scientific and mathematical tools to understand this, still there’s no controlled environment in which to run experiments. One of main advantages of financial quantum computing is that the randomness inherent to quantum computers is congruent to the nature of financial markets. Investors often wish to evaluate the distribution of outcomes under an extremely large number of scenarios generated at random. <br/>\n",
    " - **Weather Forecasting** <br/>The ability to better predict the weather would have enormous benefit to many fields, not to mention more time to take cover from disasters. As quantum researcher pointed out, “Using a classical computer to perform such analysis might take longer than it takes the actual weather to evolve!”. Quantum computers also could help build better climate models that could give us more insight into how humans are influencing the environment. <br/>\n"
   ]
  },
  {
   "cell_type": "code",
   "execution_count": null,
   "metadata": {},
   "outputs": [],
   "source": []
  },
  {
   "cell_type": "code",
   "execution_count": null,
   "metadata": {},
   "outputs": [],
   "source": []
  }
 ],
 "metadata": {
  "kernelspec": {
   "display_name": "Python 3",
   "language": "python",
   "name": "python3"
  },
  "language_info": {
   "codemirror_mode": {
    "name": "ipython",
    "version": 3
   },
   "file_extension": ".py",
   "mimetype": "text/x-python",
   "name": "python",
   "nbconvert_exporter": "python",
   "pygments_lexer": "ipython3",
   "version": "3.8.5"
  }
 },
 "nbformat": 4,
 "nbformat_minor": 4
}
